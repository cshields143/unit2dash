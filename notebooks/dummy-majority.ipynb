{
 "cells": [
  {
   "cell_type": "code",
   "execution_count": 1,
   "metadata": {},
   "outputs": [
    {
     "name": "stdout",
     "output_type": "stream",
     "text": [
      "(3701, 19)\n"
     ]
    },
    {
     "data": {
      "text/html": [
       "<div>\n",
       "<style scoped>\n",
       "    .dataframe tbody tr th:only-of-type {\n",
       "        vertical-align: middle;\n",
       "    }\n",
       "\n",
       "    .dataframe tbody tr th {\n",
       "        vertical-align: top;\n",
       "    }\n",
       "\n",
       "    .dataframe thead th {\n",
       "        text-align: right;\n",
       "    }\n",
       "</style>\n",
       "<table border=\"1\" class=\"dataframe\">\n",
       "  <thead>\n",
       "    <tr style=\"text-align: right;\">\n",
       "      <th></th>\n",
       "      <th>player</th>\n",
       "      <th>season</th>\n",
       "      <th>completions</th>\n",
       "      <th>passatt</th>\n",
       "      <th>passyards</th>\n",
       "      <th>passtds</th>\n",
       "      <th>ints</th>\n",
       "      <th>sacks</th>\n",
       "      <th>sackyards</th>\n",
       "      <th>rushatt</th>\n",
       "      <th>rushyards</th>\n",
       "      <th>rushtds</th>\n",
       "      <th>fumbles</th>\n",
       "      <th>touches</th>\n",
       "      <th>net%</th>\n",
       "      <th>ny/a</th>\n",
       "      <th>ypc</th>\n",
       "      <th>td:touch</th>\n",
       "      <th>to:touch</th>\n",
       "    </tr>\n",
       "  </thead>\n",
       "  <tbody>\n",
       "    <tr>\n",
       "      <td>0</td>\n",
       "      <td>Joe Flacco</td>\n",
       "      <td>2013</td>\n",
       "      <td>24</td>\n",
       "      <td>35</td>\n",
       "      <td>251</td>\n",
       "      <td>1</td>\n",
       "      <td>0</td>\n",
       "      <td>2.0</td>\n",
       "      <td>14.0</td>\n",
       "      <td>4</td>\n",
       "      <td>7</td>\n",
       "      <td>0</td>\n",
       "      <td>1</td>\n",
       "      <td>41.0</td>\n",
       "      <td>0.648649</td>\n",
       "      <td>6.405405</td>\n",
       "      <td>1.75</td>\n",
       "      <td>0.024390</td>\n",
       "      <td>0.024390</td>\n",
       "    </tr>\n",
       "    <tr>\n",
       "      <td>1</td>\n",
       "      <td>Ben Roethlisberger</td>\n",
       "      <td>2013</td>\n",
       "      <td>28</td>\n",
       "      <td>44</td>\n",
       "      <td>257</td>\n",
       "      <td>2</td>\n",
       "      <td>0</td>\n",
       "      <td>0.0</td>\n",
       "      <td>0.0</td>\n",
       "      <td>1</td>\n",
       "      <td>11</td>\n",
       "      <td>0</td>\n",
       "      <td>0</td>\n",
       "      <td>45.0</td>\n",
       "      <td>0.636364</td>\n",
       "      <td>5.840909</td>\n",
       "      <td>11.00</td>\n",
       "      <td>0.044444</td>\n",
       "      <td>0.000000</td>\n",
       "    </tr>\n",
       "    <tr>\n",
       "      <td>2</td>\n",
       "      <td>Tony Romo</td>\n",
       "      <td>2013</td>\n",
       "      <td>23</td>\n",
       "      <td>32</td>\n",
       "      <td>225</td>\n",
       "      <td>1</td>\n",
       "      <td>0</td>\n",
       "      <td>2.0</td>\n",
       "      <td>17.0</td>\n",
       "      <td>1</td>\n",
       "      <td>-1</td>\n",
       "      <td>0</td>\n",
       "      <td>1</td>\n",
       "      <td>35.0</td>\n",
       "      <td>0.676471</td>\n",
       "      <td>6.117647</td>\n",
       "      <td>-1.00</td>\n",
       "      <td>0.028571</td>\n",
       "      <td>0.028571</td>\n",
       "    </tr>\n",
       "    <tr>\n",
       "      <td>3</td>\n",
       "      <td>Matthew Stafford</td>\n",
       "      <td>2013</td>\n",
       "      <td>22</td>\n",
       "      <td>35</td>\n",
       "      <td>330</td>\n",
       "      <td>3</td>\n",
       "      <td>2</td>\n",
       "      <td>1.0</td>\n",
       "      <td>10.0</td>\n",
       "      <td>1</td>\n",
       "      <td>8</td>\n",
       "      <td>0</td>\n",
       "      <td>1</td>\n",
       "      <td>37.0</td>\n",
       "      <td>0.611111</td>\n",
       "      <td>8.888889</td>\n",
       "      <td>8.00</td>\n",
       "      <td>0.081081</td>\n",
       "      <td>0.081081</td>\n",
       "    </tr>\n",
       "    <tr>\n",
       "      <td>4</td>\n",
       "      <td>Tom Brady</td>\n",
       "      <td>2013</td>\n",
       "      <td>34</td>\n",
       "      <td>50</td>\n",
       "      <td>344</td>\n",
       "      <td>3</td>\n",
       "      <td>0</td>\n",
       "      <td>3.0</td>\n",
       "      <td>20.0</td>\n",
       "      <td>2</td>\n",
       "      <td>0</td>\n",
       "      <td>0</td>\n",
       "      <td>2</td>\n",
       "      <td>55.0</td>\n",
       "      <td>0.641509</td>\n",
       "      <td>6.113208</td>\n",
       "      <td>0.00</td>\n",
       "      <td>0.054545</td>\n",
       "      <td>0.036364</td>\n",
       "    </tr>\n",
       "  </tbody>\n",
       "</table>\n",
       "</div>"
      ],
      "text/plain": [
       "               player  season  completions  passatt  passyards  passtds  ints  \\\n",
       "0          Joe Flacco    2013           24       35        251        1     0   \n",
       "1  Ben Roethlisberger    2013           28       44        257        2     0   \n",
       "2           Tony Romo    2013           23       32        225        1     0   \n",
       "3    Matthew Stafford    2013           22       35        330        3     2   \n",
       "4           Tom Brady    2013           34       50        344        3     0   \n",
       "\n",
       "   sacks  sackyards  rushatt  rushyards  rushtds  fumbles  touches      net%  \\\n",
       "0    2.0       14.0        4          7        0        1     41.0  0.648649   \n",
       "1    0.0        0.0        1         11        0        0     45.0  0.636364   \n",
       "2    2.0       17.0        1         -1        0        1     35.0  0.676471   \n",
       "3    1.0       10.0        1          8        0        1     37.0  0.611111   \n",
       "4    3.0       20.0        2          0        0        2     55.0  0.641509   \n",
       "\n",
       "       ny/a    ypc  td:touch  to:touch  \n",
       "0  6.405405   1.75  0.024390  0.024390  \n",
       "1  5.840909  11.00  0.044444  0.000000  \n",
       "2  6.117647  -1.00  0.028571  0.028571  \n",
       "3  8.888889   8.00  0.081081  0.081081  \n",
       "4  6.113208   0.00  0.054545  0.036364  "
      ]
     },
     "execution_count": 1,
     "metadata": {},
     "output_type": "execute_result"
    }
   ],
   "source": [
    "import pandas as pd\n",
    "df = pd.read_csv('data.txt')\n",
    "print(df.shape)\n",
    "df.head()"
   ]
  },
  {
   "cell_type": "code",
   "execution_count": 2,
   "metadata": {},
   "outputs": [
    {
     "data": {
      "text/plain": [
       "array(['Joe Flacco', 'Ben Roethlisberger', 'Tony Romo',\n",
       "       'Matthew Stafford', 'Tom Brady', 'Ryan Fitzpatrick', 'Eli Manning',\n",
       "       'Peyton Manning', 'Cam Newton', 'Carson Palmer', 'Philip Rivers',\n",
       "       'Alex Smith', 'Drew Brees', 'Matt Ryan', 'Matt Cassel',\n",
       "       'Andy Dalton', 'Matt Schaub', 'Russell Wilson', 'Jay Cutler',\n",
       "       'Matt Hasselbeck', 'Michael Vick', 'Brett Favre', 'Aaron Rodgers'],\n",
       "      dtype=object)"
      ]
     },
     "execution_count": 2,
     "metadata": {},
     "output_type": "execute_result"
    }
   ],
   "source": [
    "# split into train/test\n",
    "from sklearn.model_selection import train_test_split\n",
    "df_train, df_test = train_test_split(df,\n",
    "                                     test_size=0.2,\n",
    "                                     stratify=df['player'],\n",
    "                                     random_state=143)\n",
    "\n",
    "labels = df['player'].unique()\n",
    "y_col = 'player'\n",
    "X_cols = ['touches', 'net%', 'ny/a', 'ypc', 'td:touch', 'to:touch']\n",
    "\n",
    "X_train = df_train[X_cols]\n",
    "X_test = df_test[X_cols]\n",
    "y_train = df_train[y_col]\n",
    "y_test = df_test[y_col]\n",
    "\n",
    "labels"
   ]
  },
  {
   "cell_type": "code",
   "execution_count": 3,
   "metadata": {},
   "outputs": [
    {
     "data": {
      "text/plain": [
       "0.06477732793522267"
      ]
     },
     "execution_count": 3,
     "metadata": {},
     "output_type": "execute_result"
    }
   ],
   "source": [
    "# majority baseline\n",
    "from sklearn.dummy import DummyClassifier\n",
    "model_maj = DummyClassifier(strategy='most_frequent')\n",
    "model_maj.fit(X_train, y_train)\n",
    "\n",
    "# the default \"subset accuracy\" is pretty bad\n",
    "model_maj.score(X_test, y_test)"
   ]
  },
  {
   "cell_type": "code",
   "execution_count": 4,
   "metadata": {},
   "outputs": [
    {
     "data": {
      "text/plain": [
       "0.5"
      ]
     },
     "execution_count": 4,
     "metadata": {},
     "output_type": "execute_result"
    }
   ],
   "source": [
    "from sklearn.metrics import roc_auc_score\n",
    "from sklearn.preprocessing import label_binarize\n",
    "\n",
    "# but the roc-auc score is even worse (as expected);\n",
    "# absolutely no ability to distinguish classes--\n",
    "# because it only ever predicts one\n",
    "roc_auc_score(label_binarize(y_test, classes=labels), model_maj.predict_proba(X_test))"
   ]
  },
  {
   "cell_type": "code",
   "execution_count": 5,
   "metadata": {},
   "outputs": [],
   "source": [
    "# save this highly important contribution to machine learning\n",
    "import pickle\n",
    "pickle.dump(model_maj, open('majority.pkl', 'wb'))"
   ]
  },
  {
   "cell_type": "code",
   "execution_count": 38,
   "metadata": {},
   "outputs": [
    {
     "name": "stderr",
     "output_type": "stream",
     "text": [
      "/Users/chris/opt/anaconda3/lib/python3.7/site-packages/ipykernel_launcher.py:12: MatplotlibDeprecationWarning: Adding an axes using the same arguments as a previous axes currently reuses the earlier instance.  In a future version, a new instance will always be created and returned.  Meanwhile, this warning can be suppressed, and the future behavior ensured, by passing a unique label to each axes instance.\n",
      "  if sys.path[0] == '':\n"
     ]
    },
    {
     "data": {
      "image/png": "[encoded data removed]",
      "text/plain": [
       "<Figure size 576x576 with 1 Axes>"
      ]
     },
     "metadata": {
      "needs_background": "light"
     },
     "output_type": "display_data"
    }
   ],
   "source": [
    "# \"diagram\" to help people understand the model\n",
    "import matplotlib.pyplot as plt\n",
    "vc = df['player'].value_counts(normalize=True).to_dict()\n",
    "x = [_ for _ in vc]\n",
    "y = [vc[_] for _ in vc]\n",
    "plt.figure(figsize=(8,8))\n",
    "plt.suptitle('Drew Brees Is the King of Regular Season Appearances',\n",
    "             fontsize=14,\n",
    "             fontweight='bold',\n",
    "             y=0.94)\n",
    "plt.title('Class Distribution of QBs w/ 100+ Regular Season Games')\n",
    "ax = plt.axes()\n",
    "ax.spines['top'].set_visible(False)\n",
    "ax.spines['bottom'].set_visible(False)\n",
    "ax.spines['left'].set_visible(False)\n",
    "ax.spines['right'].set_visible(False)\n",
    "plt.xticks([], visible=False)\n",
    "plt.barh(x, y)\n",
    "plt.gca().invert_yaxis()\n",
    "plt.show()"
   ]
  }
 ],
 "metadata": {
  "kernelspec": {
   "display_name": "Python 3",
   "language": "python",
   "name": "python3"
  },
  "language_info": {
   "codemirror_mode": {
    "name": "ipython",
    "version": 3
   },
   "file_extension": ".py",
   "mimetype": "text/x-python",
   "name": "python",
   "nbconvert_exporter": "python",
   "pygments_lexer": "ipython3",
   "version": "3.7.4"
  }
 },
 "nbformat": 4,
 "nbformat_minor": 2
}
